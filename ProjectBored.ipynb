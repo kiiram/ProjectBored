{
 "cells": [
  {
   "cell_type": "code",
   "execution_count": 1,
   "id": "5f609e82-8eac-45d0-828b-bbc103d9152b",
   "metadata": {},
   "outputs": [],
   "source": [
    "# Import packages\n",
    "import time\n",
    "import requests\n",
    "\n",
    "# Query the activity for the day from the API:\n",
    "r = requests.get('https://www.boredapi.com/api/activity/')\n",
    "\n",
    "r_json = r.json()\n",
    "activity = r_json[\"activity\"]"
   ]
  },
  {
   "cell_type": "code",
   "execution_count": 2,
   "id": "55714d4b-2c90-497b-bca6-da484505071d",
   "metadata": {},
   "outputs": [],
   "source": [
    "# Save the activity to the end of a txt-file:\n",
    "header = \"The activity for the day is: \" + activity\n",
    "\n",
    "#print(header)\n",
    "#r.status_code\n",
    "\n",
    "new_line = header+\"\\n\"\n",
    "\n",
    "# Open and save to a file:\n",
    "file = open(\"activities.txt\", 'a')\n",
    "file.write(new_line)\n",
    "file.close()"
   ]
  },
  {
   "cell_type": "code",
   "execution_count": 3,
   "id": "5024148f-7a55-4545-ac92-70e13bc90e1a",
   "metadata": {},
   "outputs": [
    {
     "name": "stdout",
     "output_type": "stream",
     "text": [
      "The activity for Wed, 26 Apr 2023 is: Contribute code or a monetary donation to an open-source software project\n"
     ]
    }
   ],
   "source": [
    "# Let's test:\n",
    "print(\"The activity for \" + str(time.strftime(\"%a, %d %b %Y\", time.localtime())) + \" is: \" + activity)"
   ]
  }
 ],
 "metadata": {
  "kernelspec": {
   "display_name": "Python 3 (ipykernel)",
   "language": "python",
   "name": "python3"
  },
  "language_info": {
   "codemirror_mode": {
    "name": "ipython",
    "version": 3
   },
   "file_extension": ".py",
   "mimetype": "text/x-python",
   "name": "python",
   "nbconvert_exporter": "python",
   "pygments_lexer": "ipython3",
   "version": "3.9.7"
  }
 },
 "nbformat": 4,
 "nbformat_minor": 5
}
