{
 "cells": [
  {
   "cell_type": "code",
   "execution_count": 18,
   "id": "b3afe2d1-5d35-48c4-9276-436d94b9c7bd",
   "metadata": {},
   "outputs": [],
   "source": [
    "# Import packages\n",
    "\n",
    "import time\n",
    "import requests"
   ]
  },
  {
   "cell_type": "code",
   "execution_count": 32,
   "id": "5f609e82-8eac-45d0-828b-bbc103d9152b",
   "metadata": {},
   "outputs": [],
   "source": [
    "# Query the activity for the day from the API:\n",
    "r = requests.get('https://www.boredapi.com/api/activity/')\n",
    "\n",
    "r_json = r.json()\n",
    "activity = r_json[\"activity\"]\n",
    "header = \"The activity for the day is: \" + activity\n",
    "\n",
    "#print(header)\n",
    "#r.status_code"
   ]
  },
  {
   "cell_type": "code",
   "execution_count": 33,
   "id": "55714d4b-2c90-497b-bca6-da484505071d",
   "metadata": {},
   "outputs": [],
   "source": [
    "# Save the activity to the end of a txt-file\n",
    "\n",
    "new_line = header+\"\\n\"\n",
    "\n",
    "file = open(\"activities.txt\", 'a')\n",
    "\n",
    "file.write(new_line)\n",
    "\n",
    "file.close()"
   ]
  },
  {
   "cell_type": "code",
   "execution_count": 34,
   "id": "5024148f-7a55-4545-ac92-70e13bc90e1a",
   "metadata": {},
   "outputs": [
    {
     "name": "stdout",
     "output_type": "stream",
     "text": [
      "The activity for Wed, 15 Mar 2023 is: Make your own LEGO creation\n"
     ]
    }
   ],
   "source": [
    "print(\"The activity for \" + str(time.strftime(\"%a, %d %b %Y\", time.localtime())) + \" is: \" + activity)"
   ]
  },
  {
   "cell_type": "code",
   "execution_count": null,
   "id": "d02ffa89-0c95-4613-97fd-126b1cc7fcac",
   "metadata": {},
   "outputs": [],
   "source": []
  },
  {
   "cell_type": "code",
   "execution_count": null,
   "id": "2d04f52c-9e9a-4e6e-b197-801809f53cae",
   "metadata": {},
   "outputs": [],
   "source": []
  }
 ],
 "metadata": {
  "kernelspec": {
   "display_name": "Python 3 (ipykernel)",
   "language": "python",
   "name": "python3"
  },
  "language_info": {
   "codemirror_mode": {
    "name": "ipython",
    "version": 3
   },
   "file_extension": ".py",
   "mimetype": "text/x-python",
   "name": "python",
   "nbconvert_exporter": "python",
   "pygments_lexer": "ipython3",
   "version": "3.9.7"
  }
 },
 "nbformat": 4,
 "nbformat_minor": 5
}
